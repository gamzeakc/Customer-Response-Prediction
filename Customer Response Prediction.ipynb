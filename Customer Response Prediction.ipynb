{
 "cells": [
  {
   "cell_type": "markdown",
   "id": "33139ea9",
   "metadata": {},
   "source": [
    "# GİRİŞ"
   ]
  },
  {
   "cell_type": "markdown",
   "id": "549c734e",
   "metadata": {},
   "source": [
    "Günümüzde şirketlerin pazarlama harcamalarını azaltabilmesi ve karı artırabilmesi için pazarlama stratejilerinin doğru geliştirmesi gerekir. \n",
    "Bu anlamda müşteri profillerinin analiz edilmesi doğru stratejiler geliştirmek için yapılması gerekenlerden biridir.\n",
    "\n",
    "### Veri Seti Hakkında Bilgi\n",
    "Bu projede kullanılan veri seti, Porketiz bankacılık kurumunun doğrudan pazarlama departmanından gelmektedir. Kampanya, banka müşterilerinin vadeli mevduat hesabı açtırmalarına yöneliktir. \n",
    "Veri setinde müşterilerin bilgileri ve bu kampanya sonucu vadeli mevduat hesabı açtırıp açtırmadıklarının (evet/hayır) bilgileri bulunmaktadır.\n",
    "\n",
    "Orijinal veri setinin kaynağı: http://archive.ics.uci.edu/ml/datasets/Bank+Marketing#\n",
    "\n",
    "Bu projede kullanılan veri setinin kaynağı: https://www.kaggle.com/yufengsui/portuguese-bank-marketing-data-set\n",
    "### Problem\n",
    "Bu projede ana amaç, bankanın müşteri hizmetlerinin bir müşteriyi aramadan önce kampanyaya vereceği cevabı(evet/hayır) tahmin edebilmektir.\n",
    "### Metodoloji\n",
    "1. Veri Keşifi\n",
    "2. Veri Görselleştirme\n",
    "3. Veri Hazırlama\n",
    "4. Matematiksel Modelleme\n",
    "5. Sonuçlar"
   ]
  },
  {
   "cell_type": "markdown",
   "id": "0c9f8419",
   "metadata": {},
   "source": [
    "# VERİ KEŞİFİ"
   ]
  },
  {
   "cell_type": "code",
   "execution_count": 38,
   "id": "08b21c3f",
   "metadata": {},
   "outputs": [],
   "source": [
    "#Kütüphanelerin yüklenmesi :\n",
    "import numpy as np\n",
    "import pandas as pd\n",
    "import statsmodels.api as sm\n",
    "import statsmodels.formula.api as smf\n",
    "import seaborn as sb\n",
    "from sklearn.preprocessing import scale\n",
    "from sklearn.model_selection import train_test_split, cross_val_score\n",
    "from sklearn.metrics import confusion_matrix, accuracy_score, classification_report\n",
    "from sklearn.metrics import roc_auc_score, roc_curve\n",
    "import statsmodels.formula.api as smf\n",
    "from sklearn.neighbors import KNeighborsClassifier\n",
    "from sklearn.discriminant_analysis import LinearDiscriminantAnalysis\n",
    "from sklearn.linear_model import LogisticRegression\n",
    "\n",
    "from warnings import filterwarnings\n",
    "filterwarnings('ignore')"
   ]
  },
  {
   "cell_type": "markdown",
   "id": "854477fe",
   "metadata": {},
   "source": [
    "### Veri setinin yüklenmesi"
   ]
  },
  {
   "cell_type": "code",
   "execution_count": 39,
   "id": "4a72c98b",
   "metadata": {},
   "outputs": [
    {
     "data": {
      "text/html": [
       "<div>\n",
       "<style scoped>\n",
       "    .dataframe tbody tr th:only-of-type {\n",
       "        vertical-align: middle;\n",
       "    }\n",
       "\n",
       "    .dataframe tbody tr th {\n",
       "        vertical-align: top;\n",
       "    }\n",
       "\n",
       "    .dataframe thead th {\n",
       "        text-align: right;\n",
       "    }\n",
       "</style>\n",
       "<table border=\"1\" class=\"dataframe\">\n",
       "  <thead>\n",
       "    <tr style=\"text-align: right;\">\n",
       "      <th></th>\n",
       "      <th>age</th>\n",
       "      <th>job</th>\n",
       "      <th>marital</th>\n",
       "      <th>education</th>\n",
       "      <th>default</th>\n",
       "      <th>balance</th>\n",
       "      <th>housing</th>\n",
       "      <th>loan</th>\n",
       "      <th>contact</th>\n",
       "      <th>day</th>\n",
       "      <th>month</th>\n",
       "      <th>duration</th>\n",
       "      <th>campaign</th>\n",
       "      <th>y</th>\n",
       "    </tr>\n",
       "  </thead>\n",
       "  <tbody>\n",
       "    <tr>\n",
       "      <th>0</th>\n",
       "      <td>58</td>\n",
       "      <td>management</td>\n",
       "      <td>married</td>\n",
       "      <td>tertiary</td>\n",
       "      <td>no</td>\n",
       "      <td>2143</td>\n",
       "      <td>yes</td>\n",
       "      <td>no</td>\n",
       "      <td>unknown</td>\n",
       "      <td>5</td>\n",
       "      <td>may</td>\n",
       "      <td>261</td>\n",
       "      <td>1</td>\n",
       "      <td>no</td>\n",
       "    </tr>\n",
       "    <tr>\n",
       "      <th>1</th>\n",
       "      <td>44</td>\n",
       "      <td>technician</td>\n",
       "      <td>single</td>\n",
       "      <td>secondary</td>\n",
       "      <td>no</td>\n",
       "      <td>29</td>\n",
       "      <td>yes</td>\n",
       "      <td>no</td>\n",
       "      <td>unknown</td>\n",
       "      <td>5</td>\n",
       "      <td>may</td>\n",
       "      <td>151</td>\n",
       "      <td>1</td>\n",
       "      <td>no</td>\n",
       "    </tr>\n",
       "    <tr>\n",
       "      <th>2</th>\n",
       "      <td>33</td>\n",
       "      <td>entrepreneur</td>\n",
       "      <td>married</td>\n",
       "      <td>secondary</td>\n",
       "      <td>no</td>\n",
       "      <td>2</td>\n",
       "      <td>yes</td>\n",
       "      <td>yes</td>\n",
       "      <td>unknown</td>\n",
       "      <td>5</td>\n",
       "      <td>may</td>\n",
       "      <td>76</td>\n",
       "      <td>1</td>\n",
       "      <td>no</td>\n",
       "    </tr>\n",
       "    <tr>\n",
       "      <th>3</th>\n",
       "      <td>47</td>\n",
       "      <td>blue-collar</td>\n",
       "      <td>married</td>\n",
       "      <td>unknown</td>\n",
       "      <td>no</td>\n",
       "      <td>1506</td>\n",
       "      <td>yes</td>\n",
       "      <td>no</td>\n",
       "      <td>unknown</td>\n",
       "      <td>5</td>\n",
       "      <td>may</td>\n",
       "      <td>92</td>\n",
       "      <td>1</td>\n",
       "      <td>no</td>\n",
       "    </tr>\n",
       "    <tr>\n",
       "      <th>4</th>\n",
       "      <td>33</td>\n",
       "      <td>unknown</td>\n",
       "      <td>single</td>\n",
       "      <td>unknown</td>\n",
       "      <td>no</td>\n",
       "      <td>1</td>\n",
       "      <td>no</td>\n",
       "      <td>no</td>\n",
       "      <td>unknown</td>\n",
       "      <td>5</td>\n",
       "      <td>may</td>\n",
       "      <td>198</td>\n",
       "      <td>1</td>\n",
       "      <td>no</td>\n",
       "    </tr>\n",
       "  </tbody>\n",
       "</table>\n",
       "</div>"
      ],
      "text/plain": [
       "   age           job  marital  education default  balance housing loan  \\\n",
       "0   58    management  married   tertiary      no     2143     yes   no   \n",
       "1   44    technician   single  secondary      no       29     yes   no   \n",
       "2   33  entrepreneur  married  secondary      no        2     yes  yes   \n",
       "3   47   blue-collar  married    unknown      no     1506     yes   no   \n",
       "4   33       unknown   single    unknown      no        1      no   no   \n",
       "\n",
       "   contact  day month  duration  campaign   y  \n",
       "0  unknown    5   may       261         1  no  \n",
       "1  unknown    5   may       151         1  no  \n",
       "2  unknown    5   may        76         1  no  \n",
       "3  unknown    5   may        92         1  no  \n",
       "4  unknown    5   may       198         1  no  "
      ]
     },
     "execution_count": 39,
     "metadata": {},
     "output_type": "execute_result"
    }
   ],
   "source": [
    "term_deposit_marketing_2020 = pd.read_csv(\"term_deposit_marketing_2020.csv\")\n",
    "df = term_deposit_marketing_2020.copy()\n",
    "\n",
    "df.head()"
   ]
  },
  {
   "cell_type": "markdown",
   "id": "6d9e1ce0",
   "metadata": {},
   "source": [
    "### Değişkenler\n",
    "\n",
    "**Girdiler:**\n",
    "- age : yaş (numeric)\n",
    "- job: meslek (category)\n",
    "- marital: medeni hal (binary)\n",
    "- education : eğitim seviyesi (category)\n",
    "- default : temerrüde düşen kredisi olup olmadığı (binary)\n",
    "- balance : yıllık ortalama bakiye (numeric)\n",
    "- housing : ev kredisi olup olmadığı (binary)\n",
    "- loan : kredisi olup olmadığı (binary)\n",
    "- contact : müşteri hizmetlerinin iletişim türü (category)\n",
    "- day : en son iletişim kurulan gün (numeric)\n",
    "- month : en son iletişim kurulan ay (category)\n",
    "- duration : en son görüşmede kaç saniye iletişim kurulduğu (numeric)\n",
    "- campaign : kampanya süresinde kaç kere iletişim kurulduğu  (numeric)\n",
    "\n",
    "**Çıktı :**\n",
    "- y : vadeli hesap açtırıp açtırmadığı (binary)"
   ]
  },
  {
   "cell_type": "code",
   "execution_count": 40,
   "id": "3e1723b3",
   "metadata": {},
   "outputs": [
    {
     "name": "stdout",
     "output_type": "stream",
     "text": [
      "<class 'pandas.core.frame.DataFrame'>\n",
      "RangeIndex: 40000 entries, 0 to 39999\n",
      "Data columns (total 14 columns):\n",
      " #   Column     Non-Null Count  Dtype \n",
      "---  ------     --------------  ----- \n",
      " 0   age        40000 non-null  int64 \n",
      " 1   job        40000 non-null  object\n",
      " 2   marital    40000 non-null  object\n",
      " 3   education  40000 non-null  object\n",
      " 4   default    40000 non-null  object\n",
      " 5   balance    40000 non-null  int64 \n",
      " 6   housing    40000 non-null  object\n",
      " 7   loan       40000 non-null  object\n",
      " 8   contact    40000 non-null  object\n",
      " 9   day        40000 non-null  int64 \n",
      " 10  month      40000 non-null  object\n",
      " 11  duration   40000 non-null  int64 \n",
      " 12  campaign   40000 non-null  int64 \n",
      " 13  y          40000 non-null  object\n",
      "dtypes: int64(5), object(9)\n",
      "memory usage: 4.3+ MB\n"
     ]
    }
   ],
   "source": [
    "# Değişken çeşitleri\n",
    "df.info()"
   ]
  },
  {
   "cell_type": "markdown",
   "id": "dc791e4f",
   "metadata": {},
   "source": [
    "Numeric değişkenler: age, balance, day, duration ve campaign                                                                                            \n",
    "Numeric olmayan değişkenler: job, marital, education, default, housing, loan, contact, month, y"
   ]
  },
  {
   "cell_type": "markdown",
   "id": "30c8b737",
   "metadata": {},
   "source": [
    "# VERİ GÖRSELLEŞTİRME"
   ]
  },
  {
   "cell_type": "code",
   "execution_count": 4,
   "id": "39b38b46",
   "metadata": {},
   "outputs": [
    {
     "data": {
      "text/plain": [
       "no     0.93\n",
       "yes    0.07\n",
       "Name: y, dtype: float64"
      ]
     },
     "execution_count": 4,
     "metadata": {},
     "output_type": "execute_result"
    }
   ],
   "source": [
    "# Kampanyaya evet ve hayır diyenlerin yüzdesel dağılımı:\n",
    "df[\"y\"].value_counts(normalize = True).round(2)"
   ]
  },
  {
   "cell_type": "code",
   "execution_count": 5,
   "id": "89c1308b",
   "metadata": {},
   "outputs": [
    {
     "data": {
      "image/png": "[encoded data removed]",
      "text/plain": [
       "<Figure size 432x288 with 1 Axes>"
      ]
     },
     "metadata": {
      "needs_background": "light"
     },
     "output_type": "display_data"
    },
    {
     "data": {
      "image/png": "[encoded data removed]",
      "text/plain": [
       "<Figure size 720x288 with 1 Axes>"
      ]
     },
     "metadata": {
      "needs_background": "light"
     },
     "output_type": "display_data"
    },
    {
     "data": {
      "image/png": "[encoded data removed]",
      "text/plain": [
       "<Figure size 720x288 with 1 Axes>"
      ]
     },
     "metadata": {
      "needs_background": "light"
     },
     "output_type": "display_data"
    },
    {
     "data": {
      "image/png": "[encoded data removed]",
      "text/plain": [
       "<Figure size 720x288 with 1 Axes>"
      ]
     },
     "metadata": {
      "needs_background": "light"
     },
     "output_type": "display_data"
    },
    {
     "data": {
      "image/png": "[encoded data removed]",
      "text/plain": [
       "<Figure size 720x288 with 1 Axes>"
      ]
     },
     "metadata": {
      "needs_background": "light"
     },
     "output_type": "display_data"
    },
    {
     "data": {
      "image/png": "[encoded data removed]",
      "text/plain": [
       "<Figure size 720x288 with 1 Axes>"
      ]
     },
     "metadata": {
      "needs_background": "light"
     },
     "output_type": "display_data"
    },
    {
     "data": {
      "image/png": "[encoded data removed]",
      "text/plain": [
       "<Figure size 720x288 with 1 Axes>"
      ]
     },
     "metadata": {
      "needs_background": "light"
     },
     "output_type": "display_data"
    },
    {
     "data": {
      "image/png": "[encoded data removed]",
      "text/plain": [
       "<Figure size 720x288 with 1 Axes>"
      ]
     },
     "metadata": {
      "needs_background": "light"
     },
     "output_type": "display_data"
    },
    {
     "data": {
      "image/png": "[encoded data removed]",
      "text/plain": [
       "<Figure size 720x288 with 1 Axes>"
      ]
     },
     "metadata": {
      "needs_background": "light"
     },
     "output_type": "display_data"
    },
    {
     "data": {
      "image/png": "[encoded data removed]",
      "text/plain": [
       "<Figure size 720x288 with 1 Axes>"
      ]
     },
     "metadata": {
      "needs_background": "light"
     },
     "output_type": "display_data"
    },
    {
     "data": {
      "image/png": "[encoded data removed]",
      "text/plain": [
       "<Figure size 720x288 with 1 Axes>"
      ]
     },
     "metadata": {
      "needs_background": "light"
     },
     "output_type": "display_data"
    },
    {
     "data": {
      "image/png": "[encoded data removed]",
      "text/plain": [
       "<Figure size 720x288 with 1 Axes>"
      ]
     },
     "metadata": {
      "needs_background": "light"
     },
     "output_type": "display_data"
    },
    {
     "data": {
      "image/png": "[encoded data removed]",
      "text/plain": [
       "<Figure size 720x288 with 1 Axes>"
      ]
     },
     "metadata": {
      "needs_background": "light"
     },
     "output_type": "display_data"
    }
   ],
   "source": [
    "# Değişkenlerin içerdiği unique değerleri ve frekanslarını görmek için histogram grafikleri :\n",
    "import matplotlib.pyplot as plt\n",
    "\n",
    "plt.hist(df[\"age\"], bins=10)\n",
    "plt.show()\n",
    "\n",
    "categorical_variables = ['job', 'marital', 'education', 'default', 'loan', 'housing','contact', 'month', 'day', 'campaign','duration', 'y']\n",
    "for col in categorical_variables:\n",
    "    plt.figure(figsize=(10,4))\n",
    "    sb.barplot(df[col].value_counts().values, df[col].value_counts().index)\n",
    "    plt.title(col)\n",
    "    plt.tight_layout()"
   ]
  },
  {
   "cell_type": "markdown",
   "id": "5eb20b08",
   "metadata": {},
   "source": [
    "### Kampanyaya evet diyen müşteriler hangi özelliklere sahip?"
   ]
  },
  {
   "cell_type": "markdown",
   "id": "a69c2b9c",
   "metadata": {},
   "source": [
    " Temettüye düşen kredisi (default) olmayan,ve kredisi (loan) olmayan müşterilerin genellikle kampanyaya katıldıkları söylenebilir.\n",
    " \n",
    " 30-50 yaş arasındaki müşterilerin kampanyaya daha fazla katıldığı söylenebilir.\n",
    " \n",
    " En son aramanın süresi(duration) arttıkça evet denilme olasılığı daha çok gözlemlenmiş.\n"
   ]
  },
  {
   "cell_type": "code",
   "execution_count": 6,
   "id": "9f919772",
   "metadata": {},
   "outputs": [
    {
     "data": {
      "image/png": "[encoded data removed]",
      "text/plain": [
       "<Figure size 720x288 with 1 Axes>"
      ]
     },
     "metadata": {
      "needs_background": "light"
     },
     "output_type": "display_data"
    },
    {
     "data": {
      "image/png": "[encoded data removed]",
      "text/plain": [
       "<Figure size 720x288 with 1 Axes>"
      ]
     },
     "metadata": {
      "needs_background": "light"
     },
     "output_type": "display_data"
    },
    {
     "data": {
      "image/png": "[encoded data removed]",
      "text/plain": [
       "<Figure size 720x288 with 1 Axes>"
      ]
     },
     "metadata": {
      "needs_background": "light"
     },
     "output_type": "display_data"
    },
    {
     "data": {
      "image/png": "[encoded data removed]",
      "text/plain": [
       "<Figure size 720x288 with 1 Axes>"
      ]
     },
     "metadata": {
      "needs_background": "light"
     },
     "output_type": "display_data"
    },
    {
     "data": {
      "image/png": "[encoded data removed]",
      "text/plain": [
       "<Figure size 720x288 with 1 Axes>"
      ]
     },
     "metadata": {
      "needs_background": "light"
     },
     "output_type": "display_data"
    },
    {
     "data": {
      "image/png": "[encoded data removed]",
      "text/plain": [
       "<Figure size 720x288 with 1 Axes>"
      ]
     },
     "metadata": {
      "needs_background": "light"
     },
     "output_type": "display_data"
    },
    {
     "data": {
      "image/png": "[encoded data removed]",
      "text/plain": [
       "<Figure size 720x288 with 1 Axes>"
      ]
     },
     "metadata": {
      "needs_background": "light"
     },
     "output_type": "display_data"
    },
    {
     "data": {
      "image/png": "[encoded data removed]",
      "text/plain": [
       "<Figure size 720x288 with 1 Axes>"
      ]
     },
     "metadata": {
      "needs_background": "light"
     },
     "output_type": "display_data"
    },
    {
     "data": {
      "image/png": "[encoded data removed]",
      "text/plain": [
       "<Figure size 720x288 with 1 Axes>"
      ]
     },
     "metadata": {
      "needs_background": "light"
     },
     "output_type": "display_data"
    },
    {
     "data": {
      "image/png": "[encoded data removed]",
      "text/plain": [
       "<Figure size 720x288 with 1 Axes>"
      ]
     },
     "metadata": {
      "needs_background": "light"
     },
     "output_type": "display_data"
    },
    {
     "data": {
      "image/png": "[encoded data removed]",
      "text/plain": [
       "<Figure size 720x288 with 1 Axes>"
      ]
     },
     "metadata": {
      "needs_background": "light"
     },
     "output_type": "display_data"
    },
    {
     "data": {
      "image/png": "[encoded data removed]",
      "text/plain": [
       "<Figure size 720x288 with 1 Axes>"
      ]
     },
     "metadata": {
      "needs_background": "light"
     },
     "output_type": "display_data"
    }
   ],
   "source": [
    "variables = ['age','job', 'marital', 'education', 'default', 'loan', 'housing', 'contact', 'month', 'day', 'campaign', 'duration']\n",
    "for col in variables:\n",
    "    plt.figure(figsize=(10,4))\n",
    "    sb.countplot(df[col], hue=df['y'])\n",
    "    plt.title(col)\n",
    "    plt.tight_layout()"
   ]
  },
  {
   "cell_type": "markdown",
   "id": "bd649238",
   "metadata": {},
   "source": [
    "###  Korelasyon Analizi"
   ]
  },
  {
   "cell_type": "markdown",
   "id": "c1649ae2",
   "metadata": {},
   "source": [
    "Isı haritası tablosundan görüldüğü üzere duration değişkeni ile müşterilerin kampanyaya yanıtları arasında bir pozitif bir korelasyon vardır."
   ]
  },
  {
   "cell_type": "code",
   "execution_count": 7,
   "id": "fa596040",
   "metadata": {},
   "outputs": [
    {
     "data": {
      "text/plain": [
       "<AxesSubplot:>"
      ]
     },
     "execution_count": 7,
     "metadata": {},
     "output_type": "execute_result"
    },
    {
     "data": {
      "image/png": "[encoded data removed]",
      "text/plain": [
       "<Figure size 720x576 with 2 Axes>"
      ]
     },
     "metadata": {
      "needs_background": "light"
     },
     "output_type": "display_data"
    }
   ],
   "source": [
    "# Isı haritası :\n",
    "plt.figure(figsize=(10,8))\n",
    "sb.heatmap(df.corr(), annot=True, fmt='0.3f', center=0,linewidths=.5)"
   ]
  },
  {
   "cell_type": "markdown",
   "id": "efb9e394",
   "metadata": {},
   "source": [
    "# VERİ TEMİZLEME"
   ]
  },
  {
   "cell_type": "markdown",
   "id": "0f0af41a",
   "metadata": {},
   "source": [
    "### Numeric Değişkenler - Eksik Veri Analizi"
   ]
  },
  {
   "cell_type": "markdown",
   "id": "3fb8b4c1",
   "metadata": {},
   "source": [
    "Numeric değişkenler : \"age\", \"balance\", \"day\", \"duration\" ve \"campaign\" dir.\n",
    "\n",
    "Eksik değer bulunmamaktadır dolayısıyla eksik değer tamamlama işlemlerini uygulamaya gerek yoktur."
   ]
  },
  {
   "cell_type": "code",
   "execution_count": 8,
   "id": "9251ba88",
   "metadata": {},
   "outputs": [
    {
     "data": {
      "text/plain": [
       "age    job    marital  education  default  balance  housing  loan   contact  day    month  duration  campaign  y    \n",
       "False  False  False    False      False    False    False    False  False    False  False  False     False     False    40000\n",
       "dtype: int64"
      ]
     },
     "execution_count": 8,
     "metadata": {},
     "output_type": "execute_result"
    }
   ],
   "source": [
    "df.isnull().value_counts()"
   ]
  },
  {
   "cell_type": "code",
   "execution_count": 9,
   "id": "2d653446",
   "metadata": {},
   "outputs": [
    {
     "data": {
      "text/html": [
       "<div>\n",
       "<style scoped>\n",
       "    .dataframe tbody tr th:only-of-type {\n",
       "        vertical-align: middle;\n",
       "    }\n",
       "\n",
       "    .dataframe tbody tr th {\n",
       "        vertical-align: top;\n",
       "    }\n",
       "\n",
       "    .dataframe thead th {\n",
       "        text-align: right;\n",
       "    }\n",
       "</style>\n",
       "<table border=\"1\" class=\"dataframe\">\n",
       "  <thead>\n",
       "    <tr style=\"text-align: right;\">\n",
       "      <th></th>\n",
       "      <th>age</th>\n",
       "      <th>balance</th>\n",
       "      <th>day</th>\n",
       "      <th>duration</th>\n",
       "      <th>campaign</th>\n",
       "    </tr>\n",
       "  </thead>\n",
       "  <tbody>\n",
       "    <tr>\n",
       "      <th>count</th>\n",
       "      <td>40000.000000</td>\n",
       "      <td>40000.000000</td>\n",
       "      <td>40000.000000</td>\n",
       "      <td>40000.000000</td>\n",
       "      <td>40000.000000</td>\n",
       "    </tr>\n",
       "    <tr>\n",
       "      <th>mean</th>\n",
       "      <td>40.544600</td>\n",
       "      <td>1274.277550</td>\n",
       "      <td>16.017225</td>\n",
       "      <td>254.824300</td>\n",
       "      <td>2.882175</td>\n",
       "    </tr>\n",
       "    <tr>\n",
       "      <th>std</th>\n",
       "      <td>9.641776</td>\n",
       "      <td>2903.769716</td>\n",
       "      <td>8.278127</td>\n",
       "      <td>259.366498</td>\n",
       "      <td>3.239051</td>\n",
       "    </tr>\n",
       "    <tr>\n",
       "      <th>min</th>\n",
       "      <td>19.000000</td>\n",
       "      <td>-8019.000000</td>\n",
       "      <td>1.000000</td>\n",
       "      <td>0.000000</td>\n",
       "      <td>1.000000</td>\n",
       "    </tr>\n",
       "    <tr>\n",
       "      <th>25%</th>\n",
       "      <td>33.000000</td>\n",
       "      <td>54.000000</td>\n",
       "      <td>8.000000</td>\n",
       "      <td>100.000000</td>\n",
       "      <td>1.000000</td>\n",
       "    </tr>\n",
       "    <tr>\n",
       "      <th>50%</th>\n",
       "      <td>39.000000</td>\n",
       "      <td>407.000000</td>\n",
       "      <td>17.000000</td>\n",
       "      <td>175.000000</td>\n",
       "      <td>2.000000</td>\n",
       "    </tr>\n",
       "    <tr>\n",
       "      <th>75%</th>\n",
       "      <td>48.000000</td>\n",
       "      <td>1319.000000</td>\n",
       "      <td>21.000000</td>\n",
       "      <td>313.000000</td>\n",
       "      <td>3.000000</td>\n",
       "    </tr>\n",
       "    <tr>\n",
       "      <th>max</th>\n",
       "      <td>95.000000</td>\n",
       "      <td>102127.000000</td>\n",
       "      <td>31.000000</td>\n",
       "      <td>4918.000000</td>\n",
       "      <td>63.000000</td>\n",
       "    </tr>\n",
       "  </tbody>\n",
       "</table>\n",
       "</div>"
      ],
      "text/plain": [
       "                age        balance           day      duration      campaign\n",
       "count  40000.000000   40000.000000  40000.000000  40000.000000  40000.000000\n",
       "mean      40.544600    1274.277550     16.017225    254.824300      2.882175\n",
       "std        9.641776    2903.769716      8.278127    259.366498      3.239051\n",
       "min       19.000000   -8019.000000      1.000000      0.000000      1.000000\n",
       "25%       33.000000      54.000000      8.000000    100.000000      1.000000\n",
       "50%       39.000000     407.000000     17.000000    175.000000      2.000000\n",
       "75%       48.000000    1319.000000     21.000000    313.000000      3.000000\n",
       "max       95.000000  102127.000000     31.000000   4918.000000     63.000000"
      ]
     },
     "execution_count": 9,
     "metadata": {},
     "output_type": "execute_result"
    }
   ],
   "source": [
    "numerical_variables = [\"age\", \"balance\", \"day\", \"duration\", \"campaign\"]\n",
    "df.describe()"
   ]
  },
  {
   "cell_type": "markdown",
   "id": "15882a7b",
   "metadata": {},
   "source": [
    "### Numeric Değişkenler - Aykırı Gözlem Analizi"
   ]
  },
  {
   "cell_type": "markdown",
   "id": "7817caff",
   "metadata": {},
   "source": [
    "Aykırı gözlemleri tespit etmek için ilk olarak sınır değerlere göz atılır."
   ]
  },
  {
   "cell_type": "markdown",
   "id": "f60ed9cb",
   "metadata": {},
   "source": [
    "Tablo incelendiğinde numeric değişkenlerinin alt ve üst sınır değerlerinin dışında değerler (outlier) aldığı görülmektedir.\n",
    "\n",
    "Veri setinin hikayesi düşünüldüğünde bu değerler aykırı gözlem olarak düşünülmedi.\n",
    "\n",
    "Fakat, müşteriyle en son kurulan iletişimin kaç saniye sürdüğünü ifade eden \"duration\" değişkeninin 15 saniyenin altında değerler alan gözlemlere değişkenin medyan değeri atandı.\n",
    "\n",
    "Bunun sebebi mantıklı bir telefon görüşmenin minimum 15 saniye süreceğinin düşünülmesi."
   ]
  },
  {
   "cell_type": "code",
   "execution_count": 10,
   "id": "f336b04b",
   "metadata": {},
   "outputs": [
    {
     "data": {
      "text/html": [
       "<div>\n",
       "<style scoped>\n",
       "    .dataframe tbody tr th:only-of-type {\n",
       "        vertical-align: middle;\n",
       "    }\n",
       "\n",
       "    .dataframe tbody tr th {\n",
       "        vertical-align: top;\n",
       "    }\n",
       "\n",
       "    .dataframe thead th {\n",
       "        text-align: right;\n",
       "    }\n",
       "</style>\n",
       "<table border=\"1\" class=\"dataframe\">\n",
       "  <thead>\n",
       "    <tr style=\"text-align: right;\">\n",
       "      <th></th>\n",
       "      <th>column</th>\n",
       "      <th>lower_outer_fence</th>\n",
       "      <th>upper_outer_fence</th>\n",
       "      <th>min_value</th>\n",
       "      <th>max_value</th>\n",
       "    </tr>\n",
       "  </thead>\n",
       "  <tbody>\n",
       "    <tr>\n",
       "      <th>0</th>\n",
       "      <td>age</td>\n",
       "      <td>10.5</td>\n",
       "      <td>70.5</td>\n",
       "      <td>19</td>\n",
       "      <td>95</td>\n",
       "    </tr>\n",
       "    <tr>\n",
       "      <th>1</th>\n",
       "      <td>balance</td>\n",
       "      <td>-1843.5</td>\n",
       "      <td>3216.5</td>\n",
       "      <td>-8019</td>\n",
       "      <td>102127</td>\n",
       "    </tr>\n",
       "    <tr>\n",
       "      <th>2</th>\n",
       "      <td>day</td>\n",
       "      <td>-11.5</td>\n",
       "      <td>40.5</td>\n",
       "      <td>1</td>\n",
       "      <td>31</td>\n",
       "    </tr>\n",
       "    <tr>\n",
       "      <th>3</th>\n",
       "      <td>duration</td>\n",
       "      <td>-219.5</td>\n",
       "      <td>632.5</td>\n",
       "      <td>0</td>\n",
       "      <td>4918</td>\n",
       "    </tr>\n",
       "    <tr>\n",
       "      <th>4</th>\n",
       "      <td>campaign</td>\n",
       "      <td>-2.0</td>\n",
       "      <td>6.0</td>\n",
       "      <td>1</td>\n",
       "      <td>63</td>\n",
       "    </tr>\n",
       "  </tbody>\n",
       "</table>\n",
       "</div>"
      ],
      "text/plain": [
       "     column  lower_outer_fence  upper_outer_fence  min_value  max_value\n",
       "0       age               10.5               70.5         19         95\n",
       "1   balance            -1843.5             3216.5      -8019     102127\n",
       "2       day              -11.5               40.5          1         31\n",
       "3  duration             -219.5              632.5          0       4918\n",
       "4  campaign               -2.0                6.0          1         63"
      ]
     },
     "execution_count": 10,
     "metadata": {},
     "output_type": "execute_result"
    }
   ],
   "source": [
    "# Alt sınır değer, üst sınır değer, minimum değer ve maksimum değerden oluşan bir tablo oluşturuldu :\n",
    "\n",
    "numerical_variables = [\"age\", \"balance\", \"day\", \"duration\", \"campaign\"]\n",
    "\n",
    "mp = { 'column': [], 'lower_outer_fence': [], 'upper_outer_fence': [] , 'min_value': [], 'max_value': []}\n",
    "\n",
    "for column in numerical_variables:\n",
    "    Q1 = df[column].quantile(0.25)\n",
    "    Q3 = df[column].quantile(0.75)\n",
    "    IQR = Q3 - Q1\n",
    "    min_value = df[column].min()\n",
    "    max_value = df[column].max()\n",
    "        \n",
    "    lower_outer_fence = Q1 - 1.5 * IQR\n",
    "    upper_outer_fence = Q3 + 1.5 * IQR\n",
    "    \n",
    "    mp['column'].append(column)\n",
    "    mp['lower_outer_fence'].append(lower_outer_fence)\n",
    "    mp['upper_outer_fence'].append(upper_outer_fence)\n",
    "    mp['min_value'].append(min_value)\n",
    "    mp['max_value'].append(max_value)\n",
    "    \n",
    "pd.DataFrame(mp)"
   ]
  },
  {
   "cell_type": "code",
   "execution_count": 11,
   "id": "8d471e54",
   "metadata": {},
   "outputs": [],
   "source": [
    "# Aykırı gözlemin medyana eşitlenmesi :\n",
    "\n",
    "median = df[\"duration\"].median()\n",
    "\n",
    "df[\"duration\"] = np.where((df[\"duration\"] < 10), median,df['duration'])"
   ]
  },
  {
   "cell_type": "markdown",
   "id": "6b52ed2a",
   "metadata": {},
   "source": [
    "### Kategorik Değişken - Eksik Veri Analizi"
   ]
  },
  {
   "cell_type": "markdown",
   "id": "40816196",
   "metadata": {},
   "source": [
    "Veri setinde eksik değer yoktur, fakat \"unknown\" olarak ifade edilmiş bilinmeyen değerler mevcuttur. \n",
    "\n",
    "Unknown gözlemlerin yalnızca \"job\", \"education\" ve \"contact\" değişkenlerinde bulunduğu tespit edilmişti. \n",
    "Bu değerler tahmin edilerek değiştirildi."
   ]
  },
  {
   "cell_type": "code",
   "execution_count": 12,
   "id": "7a44f3ff",
   "metadata": {},
   "outputs": [
    {
     "name": "stdout",
     "output_type": "stream",
     "text": [
      "job 235\n",
      "marital 0\n",
      "education 1531\n",
      "default 0\n",
      "housing 0\n",
      "loan 0\n",
      "contact 12765\n",
      "month 0\n",
      "y 0\n"
     ]
    }
   ],
   "source": [
    "# Unknown değer içeren değişkenler ve sayısı :\n",
    "for col in df.columns:\n",
    "    if df.dtypes[col] == \"object\":\n",
    "        print(col, len(df.query(\"{0} == 'unknown'\".format(col))))"
   ]
  },
  {
   "cell_type": "markdown",
   "id": "ea098dee",
   "metadata": {},
   "source": [
    "### Kategorik Değişken - Eksik Veri Tamamlama"
   ]
  },
  {
   "cell_type": "markdown",
   "id": "a36a88ff",
   "metadata": {},
   "source": [
    "Job değişkeninin eğitim değişkeninden etkilenebileceği düşünülerek ikisi arasında çapraz tablolama yapıldı ve bu tablodan yola çıkılarak unknown değerlere çeşitli atamalar yapıldı."
   ]
  },
  {
   "cell_type": "code",
   "execution_count": 13,
   "id": "7f77cd46",
   "metadata": {},
   "outputs": [
    {
     "data": {
      "text/html": [
       "<div>\n",
       "<style scoped>\n",
       "    .dataframe tbody tr th:only-of-type {\n",
       "        vertical-align: middle;\n",
       "    }\n",
       "\n",
       "    .dataframe tbody tr th {\n",
       "        vertical-align: top;\n",
       "    }\n",
       "\n",
       "    .dataframe thead th {\n",
       "        text-align: right;\n",
       "    }\n",
       "</style>\n",
       "<table border=\"1\" class=\"dataframe\">\n",
       "  <thead>\n",
       "    <tr style=\"text-align: right;\">\n",
       "      <th></th>\n",
       "      <th>tertiary</th>\n",
       "      <th>secondary</th>\n",
       "      <th>unknown</th>\n",
       "      <th>primary</th>\n",
       "    </tr>\n",
       "    <tr>\n",
       "      <th>job</th>\n",
       "      <th></th>\n",
       "      <th></th>\n",
       "      <th></th>\n",
       "      <th></th>\n",
       "    </tr>\n",
       "  </thead>\n",
       "  <tbody>\n",
       "    <tr>\n",
       "      <th>admin</th>\n",
       "      <td>410</td>\n",
       "      <td>3723</td>\n",
       "      <td>148</td>\n",
       "      <td>202</td>\n",
       "    </tr>\n",
       "    <tr>\n",
       "      <th>blue-collar</th>\n",
       "      <td>127</td>\n",
       "      <td>5144</td>\n",
       "      <td>439</td>\n",
       "      <td>3673</td>\n",
       "    </tr>\n",
       "    <tr>\n",
       "      <th>entrepreneur</th>\n",
       "      <td>648</td>\n",
       "      <td>507</td>\n",
       "      <td>74</td>\n",
       "      <td>176</td>\n",
       "    </tr>\n",
       "    <tr>\n",
       "      <th>housemaid</th>\n",
       "      <td>147</td>\n",
       "      <td>345</td>\n",
       "      <td>40</td>\n",
       "      <td>555</td>\n",
       "    </tr>\n",
       "    <tr>\n",
       "      <th>management</th>\n",
       "      <td>6667</td>\n",
       "      <td>1037</td>\n",
       "      <td>189</td>\n",
       "      <td>273</td>\n",
       "    </tr>\n",
       "    <tr>\n",
       "      <th>retired</th>\n",
       "      <td>229</td>\n",
       "      <td>664</td>\n",
       "      <td>59</td>\n",
       "      <td>485</td>\n",
       "    </tr>\n",
       "    <tr>\n",
       "      <th>self-employed</th>\n",
       "      <td>702</td>\n",
       "      <td>552</td>\n",
       "      <td>31</td>\n",
       "      <td>129</td>\n",
       "    </tr>\n",
       "    <tr>\n",
       "      <th>services</th>\n",
       "      <td>170</td>\n",
       "      <td>3269</td>\n",
       "      <td>135</td>\n",
       "      <td>336</td>\n",
       "    </tr>\n",
       "    <tr>\n",
       "      <th>student</th>\n",
       "      <td>150</td>\n",
       "      <td>282</td>\n",
       "      <td>74</td>\n",
       "      <td>18</td>\n",
       "    </tr>\n",
       "    <tr>\n",
       "      <th>technician</th>\n",
       "      <td>1702</td>\n",
       "      <td>4788</td>\n",
       "      <td>214</td>\n",
       "      <td>148</td>\n",
       "    </tr>\n",
       "    <tr>\n",
       "      <th>unemployed</th>\n",
       "      <td>228</td>\n",
       "      <td>622</td>\n",
       "      <td>24</td>\n",
       "      <td>230</td>\n",
       "    </tr>\n",
       "    <tr>\n",
       "      <th>unknown</th>\n",
       "      <td>26</td>\n",
       "      <td>60</td>\n",
       "      <td>104</td>\n",
       "      <td>45</td>\n",
       "    </tr>\n",
       "  </tbody>\n",
       "</table>\n",
       "</div>"
      ],
      "text/plain": [
       "               tertiary  secondary  unknown  primary\n",
       "job                                                 \n",
       "admin               410       3723      148      202\n",
       "blue-collar         127       5144      439     3673\n",
       "entrepreneur        648        507       74      176\n",
       "housemaid           147        345       40      555\n",
       "management         6667       1037      189      273\n",
       "retired             229        664       59      485\n",
       "self-employed       702        552       31      129\n",
       "services            170       3269      135      336\n",
       "student             150        282       74       18\n",
       "technician         1702       4788      214      148\n",
       "unemployed          228        622       24      230\n",
       "unknown              26         60      104       45"
      ]
     },
     "execution_count": 13,
     "metadata": {},
     "output_type": "execute_result"
    }
   ],
   "source": [
    "def cross_tab(df,f1,f2):\n",
    "    jobs=list(df[f1].unique())\n",
    "    edu=list(df[f2].unique())\n",
    "    dataframes=[]\n",
    "    for e in edu:\n",
    "        dfe=df[df[f2]==e]\n",
    "        dfejob=dfe.groupby(f1).count()[f2]\n",
    "        dataframes.append(dfejob)\n",
    "    xx=pd.concat(dataframes,axis=1)\n",
    "    xx.columns=edu\n",
    "    xx=xx.fillna(0)\n",
    "    return xx\n",
    "cross_tab(df,'job','education')"
   ]
  },
  {
   "cell_type": "markdown",
   "id": "62a320ae",
   "metadata": {},
   "source": [
    "Yaşı 60'dan büyük olan müşterilerin çoğunluğu emekli olduğu için;\n",
    "\n",
    "İşi bilinmeyen ve 60 yaşından büyük olan gözlemlerin job değişkenine \"retired\" atandı."
   ]
  },
  {
   "cell_type": "code",
   "execution_count": 14,
   "id": "dea9c9ef",
   "metadata": {},
   "outputs": [
    {
     "data": {
      "text/plain": [
       "retired          163\n",
       "management        22\n",
       "housemaid         15\n",
       "technician        10\n",
       "blue-collar        8\n",
       "self-employed      6\n",
       "admin              4\n",
       "unknown            3\n",
       "unemployed         2\n",
       "entrepreneur       1\n",
       "Name: job, dtype: int64"
      ]
     },
     "execution_count": 14,
     "metadata": {},
     "output_type": "execute_result"
    }
   ],
   "source": [
    "# Yaşı 60'dan büyük olan gözlemlerin mesleği :\n",
    "\n",
    "df['job'][df['age']>60].value_counts()"
   ]
  },
  {
   "cell_type": "code",
   "execution_count": 15,
   "id": "1f759283",
   "metadata": {},
   "outputs": [],
   "source": [
    "# Koşulu sağlayan ve job=unknown değerler için atama :\n",
    "df.loc[(df['age']>60) & (df['job']=='unknown'), 'job'] = 'retired'"
   ]
  },
  {
   "cell_type": "markdown",
   "id": "ee64778d",
   "metadata": {},
   "source": [
    "Her bir job değişkeninine karşılık bilinmeyen education değişkeni için, o iş çeşidinin en çok tekrarlayan eğitim değeri atandı.\n",
    "\n",
    "Örneğin; job = management için education değişkeninin en çok aldığı değer \"tertiary\" ise;\n",
    "\n",
    "job = management ve education= unknown ise education= tertiary "
   ]
  },
  {
   "cell_type": "code",
   "execution_count": 16,
   "id": "4cb647bb",
   "metadata": {},
   "outputs": [],
   "source": [
    "df.loc[(df['education']=='unknown') & (df['job']=='admin'), 'education'] = 'secondary'\n",
    "df.loc[(df['education']=='unknown') & (df['job']=='blue-collar'), 'education'] = 'secondary'\n",
    "df.loc[(df['education']=='unknown') & (df['job']=='entrepreneur'), 'education'] = 'tertiary'\n",
    "df.loc[(df['education']=='unknown') & (df['job']=='housemaid'), 'education'] = 'primary'\n",
    "df.loc[(df['education']=='unknown') & (df['job']=='management'), 'education'] = 'tertiary'\n",
    "df.loc[(df['education']=='unknown') & (df['job']=='retired'), 'education'] = 'secondary'\n",
    "df.loc[(df['education']=='unknown') & (df['job']=='self-employed'), 'education'] = 'tertiary'\n",
    "df.loc[(df['education']=='unknown') & (df['job']=='services'), 'education'] = 'secondary'\n",
    "df.loc[(df['education']=='unknown') & (df['job']=='student'), 'education'] = 'secondary'\n",
    "df.loc[(df['education']=='unknown') & (df['job']=='technician'), 'education'] = 'secondary'\n",
    "df.loc[(df['education']=='unknown') & (df['job']=='unemployed'), 'education'] = 'secondary'"
   ]
  },
  {
   "cell_type": "markdown",
   "id": "6b3966a5",
   "metadata": {},
   "source": [
    "Job ve Education değişkenlerinin ikisi de bilinmeyen gözlemlere her kategorinin en çok tekrar eden değeri atandı."
   ]
  },
  {
   "cell_type": "code",
   "execution_count": 17,
   "id": "44ff4183",
   "metadata": {},
   "outputs": [],
   "source": [
    "df.loc[(df['education']=='unknown'), 'education'] = df[\"education\"].mode()\n",
    "df.loc[(df['job']=='unknown'), 'job'] = df[\"job\"].mode()"
   ]
  },
  {
   "cell_type": "markdown",
   "id": "ead4a39c",
   "metadata": {},
   "source": [
    "Contact değişkenindeki unknown satırlar en çok tekrar eden değere eşitlenir."
   ]
  },
  {
   "cell_type": "code",
   "execution_count": 18,
   "id": "a131ffc7",
   "metadata": {},
   "outputs": [],
   "source": [
    "df.loc[(df['contact']=='unknown'), 'contact'] = df[\"contact\"].mode()"
   ]
  },
  {
   "cell_type": "code",
   "execution_count": 19,
   "id": "79aa9df2",
   "metadata": {},
   "outputs": [
    {
     "data": {
      "text/plain": [
       "False    40000\n",
       "dtype: int64"
      ]
     },
     "execution_count": 19,
     "metadata": {},
     "output_type": "execute_result"
    }
   ],
   "source": [
    "# Test\n",
    "((df[\"job\"] =='unknown') | (df[\"education\"] == 'unknown') | (df[\"contact\"] == 'unknown')).value_counts()"
   ]
  },
  {
   "cell_type": "markdown",
   "id": "23bedee9",
   "metadata": {},
   "source": [
    "### Değişken Türü Değiştirme"
   ]
  },
  {
   "cell_type": "markdown",
   "id": "8b52cec8",
   "metadata": {},
   "source": [
    "Matematiksel modeli kurabilmek için object türündeki değişkenler numeric değerlere dönüştürüldü. "
   ]
  },
  {
   "cell_type": "code",
   "execution_count": 20,
   "id": "eba1f949",
   "metadata": {},
   "outputs": [],
   "source": [
    "from sklearn.preprocessing import LabelEncoder\n",
    "le = LabelEncoder()\n",
    "for col in df:\n",
    "    if df[col].dtype == \"object\":\n",
    "        df[col]=le.fit_transform(df[col])"
   ]
  },
  {
   "cell_type": "markdown",
   "id": "78317021",
   "metadata": {},
   "source": [
    "### Test ve Train Veri Seti Ayırması"
   ]
  },
  {
   "cell_type": "code",
   "execution_count": 21,
   "id": "c9556e52",
   "metadata": {},
   "outputs": [],
   "source": [
    "y = df[\"y\"]\n",
    "X = df.drop([\"y\"], axis=1)"
   ]
  },
  {
   "cell_type": "code",
   "execution_count": 22,
   "id": "02b1e6e2",
   "metadata": {},
   "outputs": [],
   "source": [
    "# Test ve train ayırımı\n",
    "\n",
    "X_train, X_test, y_train, y_test = train_test_split( df.drop(columns = \"y\"),\n",
    "                                                    df.y,\n",
    "                                                    test_size = 0.25,\n",
    "                                                    random_state = 42,\n",
    "                                                    stratify = df.y )\n"
   ]
  },
  {
   "cell_type": "markdown",
   "id": "b2fb84a3",
   "metadata": {},
   "source": [
    "# MATEMATİKSEL MODELLEME"
   ]
  },
  {
   "cell_type": "markdown",
   "id": "0eef8bba",
   "metadata": {},
   "source": [
    "Problemin bir sınıflandırma örneği olmasından dolayı Lojistik Regresyon, ve K Neighbour algoritmaları kullanıldı."
   ]
  },
  {
   "cell_type": "code",
   "execution_count": 23,
   "id": "835ce3ec",
   "metadata": {},
   "outputs": [],
   "source": [
    "# Kütüphanelerin yüklenmesi :\n",
    "from sklearn.model_selection import train_test_split\n",
    "from sklearn.tree import DecisionTreeClassifier\n",
    "from sklearn.ensemble import RandomForestClassifier\n",
    "from sklearn.linear_model import LogisticRegression\n",
    "from sklearn.neighbors import KNeighborsClassifier\n",
    "from sklearn.metrics import confusion_matrix\n",
    "from sklearn.metrics import classification_report\n",
    "from sklearn.ensemble import AdaBoostClassifier\n",
    "from sklearn.ensemble import BaggingClassifier\n",
    "import os"
   ]
  },
  {
   "cell_type": "markdown",
   "id": "0e6e3ab9",
   "metadata": {},
   "source": [
    "### Lojistik Regresyon Modeli"
   ]
  },
  {
   "cell_type": "code",
   "execution_count": 24,
   "id": "1646fe3f",
   "metadata": {},
   "outputs": [
    {
     "data": {
      "text/plain": [
       "LogisticRegression(solver='liblinear')"
      ]
     },
     "execution_count": 24,
     "metadata": {},
     "output_type": "execute_result"
    }
   ],
   "source": [
    "log = LogisticRegression(solver = \"liblinear\")\n",
    "log_reg = log.fit(X_train, y_train)\n",
    "log_reg"
   ]
  },
  {
   "cell_type": "code",
   "execution_count": 25,
   "id": "26e9068c",
   "metadata": {},
   "outputs": [
    {
     "data": {
      "text/plain": [
       "0.9334"
      ]
     },
     "execution_count": 25,
     "metadata": {},
     "output_type": "execute_result"
    }
   ],
   "source": [
    "log_reg_scr_trn = log_reg.score(X_train,y_train)\n",
    "log_reg_scr_trn"
   ]
  },
  {
   "cell_type": "code",
   "execution_count": 26,
   "id": "0cfbe040",
   "metadata": {},
   "outputs": [],
   "source": [
    "log_reg_scr_tst = log_reg.fit(X_test,y_test)"
   ]
  },
  {
   "cell_type": "code",
   "execution_count": 27,
   "id": "7f80606d",
   "metadata": {},
   "outputs": [
    {
     "data": {
      "text/plain": [
       "0.9315"
      ]
     },
     "execution_count": 27,
     "metadata": {},
     "output_type": "execute_result"
    }
   ],
   "source": [
    "log_reg_scr_tst = log_reg.score(X_test,y_test)\n",
    "log_reg_scr_tst"
   ]
  },
  {
   "cell_type": "code",
   "execution_count": 28,
   "id": "01378992",
   "metadata": {},
   "outputs": [],
   "source": [
    "log_reg = log_reg.predict(X_test)"
   ]
  },
  {
   "cell_type": "code",
   "execution_count": 29,
   "id": "52508f08",
   "metadata": {},
   "outputs": [
    {
     "name": "stdout",
     "output_type": "stream",
     "text": [
      "              precision    recall  f1-score   support\n",
      "\n",
      "           0       0.99      0.94      0.96      9727\n",
      "           1       0.22      0.57      0.31       273\n",
      "\n",
      "    accuracy                           0.93     10000\n",
      "   macro avg       0.60      0.76      0.64     10000\n",
      "weighted avg       0.97      0.93      0.95     10000\n",
      "\n"
     ]
    }
   ],
   "source": [
    "print(classification_report(log_reg,y_test))"
   ]
  },
  {
   "cell_type": "markdown",
   "id": "10e59007",
   "metadata": {},
   "source": [
    "### K Nearest Neighbour"
   ]
  },
  {
   "cell_type": "code",
   "execution_count": 30,
   "id": "df68f5cb",
   "metadata": {},
   "outputs": [
    {
     "data": {
      "text/plain": [
       "KNeighborsClassifier()"
      ]
     },
     "execution_count": 30,
     "metadata": {},
     "output_type": "execute_result"
    }
   ],
   "source": [
    "knn = KNeighborsClassifier()\n",
    "knn.fit(X_train,y_train)"
   ]
  },
  {
   "cell_type": "code",
   "execution_count": 31,
   "id": "f988944c",
   "metadata": {},
   "outputs": [
    {
     "data": {
      "text/plain": [
       "0.9426333333333333"
      ]
     },
     "execution_count": 31,
     "metadata": {},
     "output_type": "execute_result"
    }
   ],
   "source": [
    "knn_scr= knn.score(X_train,y_train)\n",
    "knn_scr"
   ]
  },
  {
   "cell_type": "code",
   "execution_count": 32,
   "id": "cc7d990f",
   "metadata": {},
   "outputs": [
    {
     "data": {
      "text/plain": [
       "KNeighborsClassifier()"
      ]
     },
     "execution_count": 32,
     "metadata": {},
     "output_type": "execute_result"
    }
   ],
   "source": [
    "knn.fit(X_test,y_test)"
   ]
  },
  {
   "cell_type": "code",
   "execution_count": 33,
   "id": "a6e8e16a",
   "metadata": {},
   "outputs": [
    {
     "data": {
      "text/plain": [
       "0.9433"
      ]
     },
     "execution_count": 33,
     "metadata": {},
     "output_type": "execute_result"
    }
   ],
   "source": [
    "knn_scr_tst = knn.score(X_test,y_test)\n",
    "knn_scr_tst"
   ]
  },
  {
   "cell_type": "code",
   "execution_count": 34,
   "id": "8cf3f1c2",
   "metadata": {},
   "outputs": [],
   "source": [
    "knn_pred = knn.predict(X_test)"
   ]
  },
  {
   "cell_type": "code",
   "execution_count": 35,
   "id": "db929b39",
   "metadata": {},
   "outputs": [
    {
     "name": "stdout",
     "output_type": "stream",
     "text": [
      "              precision    recall  f1-score   support\n",
      "\n",
      "           0       0.99      0.95      0.97      9597\n",
      "           1       0.39      0.69      0.50       403\n",
      "\n",
      "    accuracy                           0.94     10000\n",
      "   macro avg       0.69      0.82      0.73     10000\n",
      "weighted avg       0.96      0.94      0.95     10000\n",
      "\n"
     ]
    }
   ],
   "source": [
    "print(classification_report(knn_pred,y_test))"
   ]
  },
  {
   "cell_type": "markdown",
   "id": "798f85dc",
   "metadata": {},
   "source": [
    "### Model Değerlendirme"
   ]
  },
  {
   "cell_type": "code",
   "execution_count": 36,
   "id": "680f7f61",
   "metadata": {},
   "outputs": [],
   "source": [
    "d = {\"Model\":['Logistic Regression',\"K Neighbour\"],\n",
    "     'Training validation':[log_reg_scr_trn,knn_scr], \n",
    "     \"Test Validation\": [log_reg_scr_tst,knn_scr_tst]}\n"
   ]
  },
  {
   "cell_type": "code",
   "execution_count": 37,
   "id": "e0fbc9ee",
   "metadata": {},
   "outputs": [
    {
     "data": {
      "text/html": [
       "<div>\n",
       "<style scoped>\n",
       "    .dataframe tbody tr th:only-of-type {\n",
       "        vertical-align: middle;\n",
       "    }\n",
       "\n",
       "    .dataframe tbody tr th {\n",
       "        vertical-align: top;\n",
       "    }\n",
       "\n",
       "    .dataframe thead th {\n",
       "        text-align: right;\n",
       "    }\n",
       "</style>\n",
       "<table border=\"1\" class=\"dataframe\">\n",
       "  <thead>\n",
       "    <tr style=\"text-align: right;\">\n",
       "      <th></th>\n",
       "      <th>Model</th>\n",
       "      <th>Training validation</th>\n",
       "      <th>Test Validation</th>\n",
       "    </tr>\n",
       "  </thead>\n",
       "  <tbody>\n",
       "    <tr>\n",
       "      <th>0</th>\n",
       "      <td>Logistic Regression</td>\n",
       "      <td>0.933400</td>\n",
       "      <td>0.9315</td>\n",
       "    </tr>\n",
       "    <tr>\n",
       "      <th>1</th>\n",
       "      <td>K Neighbour</td>\n",
       "      <td>0.942633</td>\n",
       "      <td>0.9433</td>\n",
       "    </tr>\n",
       "  </tbody>\n",
       "</table>\n",
       "</div>"
      ],
      "text/plain": [
       "                 Model  Training validation  Test Validation\n",
       "0  Logistic Regression             0.933400           0.9315\n",
       "1          K Neighbour             0.942633           0.9433"
      ]
     },
     "execution_count": 37,
     "metadata": {},
     "output_type": "execute_result"
    }
   ],
   "source": [
    "model_evaluation =pd.DataFrame(d)\n",
    "model_evaluation"
   ]
  }
 ],
 "metadata": {
  "kernelspec": {
   "display_name": "Python 3",
   "language": "python",
   "name": "python3"
  },
  "language_info": {
   "codemirror_mode": {
    "name": "ipython",
    "version": 3
   },
   "file_extension": ".py",
   "mimetype": "text/x-python",
   "name": "python",
   "nbconvert_exporter": "python",
   "pygments_lexer": "ipython3",
   "version": "3.8.8"
  }
 },
 "nbformat": 4,
 "nbformat_minor": 5
}
